{
 "cells": [
  {
   "cell_type": "markdown",
   "metadata": {},
   "source": [
    "Тестовое задание состоит из 3 блоков: базовый python, работа с данными, задача \\\n",
    "В конце 2 блока необходимо написать суммарное время, которое вам понадобилось на выполнение блоков 1 и 2."
   ]
  },
  {
   "cell_type": "markdown",
   "metadata": {},
   "source": [
    "# Блок №1\n",
    "Решение задач первого блока необходимо записать в одну строку"
   ]
  },
  {
   "cell_type": "markdown",
   "metadata": {},
   "source": [
    "1. Поменяйте местами значения двух переменных"
   ]
  },
  {
   "cell_type": "code",
   "execution_count": 25,
   "metadata": {},
   "outputs": [],
   "source": [
    "x = 'X'\n",
    "y = 'Y'\n",
    "\n",
    "x,y = y,x\n",
    "\n"
   ]
  },
  {
   "cell_type": "markdown",
   "metadata": {},
   "source": [
    "2. Есть список чисел 'numbers'. Напишите программу, которая будет отвечать на вопрос, все ли значения списка уникальны."
   ]
  },
  {
   "cell_type": "code",
   "execution_count": 26,
   "metadata": {},
   "outputs": [],
   "source": [
    "numbers = [12, 56, 942, 3, 333, 1023, 9]\n",
    "\n",
    "if len(numbers) != len(set(numbers)): print(\"Есть неуникальные значения!\") \n",
    "\n"
   ]
  },
  {
   "cell_type": "markdown",
   "metadata": {},
   "source": [
    "3. Посчитайте количество символов ‘e’ в объекте phrase."
   ]
  },
  {
   "cell_type": "code",
   "execution_count": 27,
   "metadata": {},
   "outputs": [
    {
     "data": {
      "text/plain": [
       "4"
      ]
     },
     "execution_count": 27,
     "metadata": {},
     "output_type": "execute_result"
    }
   ],
   "source": [
    "phrase = 'count the number of letters'\n",
    "\n",
    "phrase.count(\"e\")\n"
   ]
  },
  {
   "cell_type": "markdown",
   "metadata": {},
   "source": [
    "# Блок №2\n",
    "В данном блоке Вам необходимо произвести несколько последовательных действий."
   ]
  },
  {
   "cell_type": "markdown",
   "metadata": {},
   "source": [
    "1. В Вашем распоряжении находится файл 'dataset.tsv'. Мы хотим поработать с ним в python. \\\n",
    "Подгрузите его в формате dataframe и выведите на экран."
   ]
  },
  {
   "cell_type": "code",
   "execution_count": 28,
   "metadata": {},
   "outputs": [
    {
     "data": {
      "text/html": [
       "<div>\n",
       "<style scoped>\n",
       "    .dataframe tbody tr th:only-of-type {\n",
       "        vertical-align: middle;\n",
       "    }\n",
       "\n",
       "    .dataframe tbody tr th {\n",
       "        vertical-align: top;\n",
       "    }\n",
       "\n",
       "    .dataframe thead th {\n",
       "        text-align: right;\n",
       "    }\n",
       "</style>\n",
       "<table border=\"1\" class=\"dataframe\">\n",
       "  <thead>\n",
       "    <tr style=\"text-align: right;\">\n",
       "      <th></th>\n",
       "      <th>Name</th>\n",
       "      <th>Birth</th>\n",
       "      <th>City</th>\n",
       "      <th>Position</th>\n",
       "    </tr>\n",
       "  </thead>\n",
       "  <tbody>\n",
       "    <tr>\n",
       "      <th>0</th>\n",
       "      <td>Иванов А.А.</td>\n",
       "      <td>22.03.1980</td>\n",
       "      <td>Москва</td>\n",
       "      <td>NaN</td>\n",
       "    </tr>\n",
       "    <tr>\n",
       "      <th>1</th>\n",
       "      <td>Сорокин И.В.</td>\n",
       "      <td>07.08.1965</td>\n",
       "      <td>Волгоград</td>\n",
       "      <td>инженер</td>\n",
       "    </tr>\n",
       "    <tr>\n",
       "      <th>2</th>\n",
       "      <td>Белов М.М.</td>\n",
       "      <td>13.02.1980</td>\n",
       "      <td>Ростов</td>\n",
       "      <td>менеджер</td>\n",
       "    </tr>\n",
       "    <tr>\n",
       "      <th>3</th>\n",
       "      <td>Мельникова Д.С.</td>\n",
       "      <td>15.04.1985</td>\n",
       "      <td>Ростов</td>\n",
       "      <td>NaN</td>\n",
       "    </tr>\n",
       "    <tr>\n",
       "      <th>4</th>\n",
       "      <td>Рыбина Е.П.</td>\n",
       "      <td>19.11.1985</td>\n",
       "      <td>Москва</td>\n",
       "      <td>инженер</td>\n",
       "    </tr>\n",
       "    <tr>\n",
       "      <th>5</th>\n",
       "      <td>Костров С.О.</td>\n",
       "      <td>31.05.1985</td>\n",
       "      <td>Москва</td>\n",
       "      <td>стажер</td>\n",
       "    </tr>\n",
       "  </tbody>\n",
       "</table>\n",
       "</div>"
      ],
      "text/plain": [
       "              Name       Birth       City  Position\n",
       "0      Иванов А.А.  22.03.1980     Москва       NaN\n",
       "1     Сорокин И.В.  07.08.1965  Волгоград   инженер\n",
       "2       Белов М.М.  13.02.1980     Ростов  менеджер\n",
       "3  Мельникова Д.С.  15.04.1985     Ростов       NaN\n",
       "4      Рыбина Е.П.  19.11.1985     Москва   инженер\n",
       "5     Костров С.О.  31.05.1985     Москва    стажер"
      ]
     },
     "execution_count": 28,
     "metadata": {},
     "output_type": "execute_result"
    }
   ],
   "source": [
    "import pandas as pd\n",
    "\n",
    "df = pd.read_table(\"./dataset.tsv\")\n",
    "df\n"
   ]
  },
  {
   "cell_type": "markdown",
   "metadata": {},
   "source": [
    "2. Проверьте, какому типу принадлежат объекты в каждом столбце. Переведите столбец 'Birth' в формат даты."
   ]
  },
  {
   "cell_type": "code",
   "execution_count": 29,
   "metadata": {},
   "outputs": [
    {
     "data": {
      "text/plain": [
       "Name                object\n",
       "Birth       datetime64[ns]\n",
       "City                object\n",
       "Position            object\n",
       "dtype: object"
      ]
     },
     "execution_count": 29,
     "metadata": {},
     "output_type": "execute_result"
    }
   ],
   "source": [
    "\n",
    "df['Birth'] =  df['Birth'].apply(pd.to_datetime)\n",
    "df.dtypes"
   ]
  },
  {
   "cell_type": "markdown",
   "metadata": {},
   "source": [
    "3. Давайте создадим новый dataframe только из тех содрудников, которые либо работают в Волгограде, либо родились позже 1984 года."
   ]
  },
  {
   "cell_type": "code",
   "execution_count": 30,
   "metadata": {},
   "outputs": [
    {
     "data": {
      "text/html": [
       "<div>\n",
       "<style scoped>\n",
       "    .dataframe tbody tr th:only-of-type {\n",
       "        vertical-align: middle;\n",
       "    }\n",
       "\n",
       "    .dataframe tbody tr th {\n",
       "        vertical-align: top;\n",
       "    }\n",
       "\n",
       "    .dataframe thead th {\n",
       "        text-align: right;\n",
       "    }\n",
       "</style>\n",
       "<table border=\"1\" class=\"dataframe\">\n",
       "  <thead>\n",
       "    <tr style=\"text-align: right;\">\n",
       "      <th></th>\n",
       "      <th>Name</th>\n",
       "      <th>Birth</th>\n",
       "      <th>City</th>\n",
       "      <th>Position</th>\n",
       "    </tr>\n",
       "  </thead>\n",
       "  <tbody>\n",
       "    <tr>\n",
       "      <th>1</th>\n",
       "      <td>Сорокин И.В.</td>\n",
       "      <td>1965-07-08</td>\n",
       "      <td>Волгоград</td>\n",
       "      <td>инженер</td>\n",
       "    </tr>\n",
       "    <tr>\n",
       "      <th>3</th>\n",
       "      <td>Мельникова Д.С.</td>\n",
       "      <td>1985-04-15</td>\n",
       "      <td>Ростов</td>\n",
       "      <td>NaN</td>\n",
       "    </tr>\n",
       "    <tr>\n",
       "      <th>4</th>\n",
       "      <td>Рыбина Е.П.</td>\n",
       "      <td>1985-11-19</td>\n",
       "      <td>Москва</td>\n",
       "      <td>инженер</td>\n",
       "    </tr>\n",
       "    <tr>\n",
       "      <th>5</th>\n",
       "      <td>Костров С.О.</td>\n",
       "      <td>1985-05-31</td>\n",
       "      <td>Москва</td>\n",
       "      <td>стажер</td>\n",
       "    </tr>\n",
       "  </tbody>\n",
       "</table>\n",
       "</div>"
      ],
      "text/plain": [
       "              Name      Birth       City Position\n",
       "1     Сорокин И.В. 1965-07-08  Волгоград  инженер\n",
       "3  Мельникова Д.С. 1985-04-15     Ростов      NaN\n",
       "4      Рыбина Е.П. 1985-11-19     Москва  инженер\n",
       "5     Костров С.О. 1985-05-31     Москва   стажер"
      ]
     },
     "execution_count": 30,
     "metadata": {},
     "output_type": "execute_result"
    }
   ],
   "source": [
    "df_new = df.loc[(df.City == \"Волгоград\") | (df.Birth.dt.year > 1984)]\n",
    "\n",
    "df_new"
   ]
  },
  {
   "cell_type": "markdown",
   "metadata": {},
   "source": [
    "4. Отсортированные данные необходимо выгрузить в Excel."
   ]
  },
  {
   "cell_type": "code",
   "execution_count": 31,
   "metadata": {},
   "outputs": [],
   "source": [
    "\n",
    "df_new.sort_values([\"Name\",\"Birth\",\"City\",\"Position\"]).to_excel(excel_writer = \"filter_and_sort_df.xlsx\")\n"
   ]
  },
  {
   "cell_type": "markdown",
   "metadata": {},
   "source": [
    "Напишите здесь примерное время в минутах, за которое вы выполнили задачи Блоков 1-2"
   ]
  },
  {
   "cell_type": "code",
   "execution_count": 32,
   "metadata": {},
   "outputs": [
    {
     "data": {
      "text/plain": [
       "30"
      ]
     },
     "execution_count": 32,
     "metadata": {},
     "output_type": "execute_result"
    }
   ],
   "source": [
    "30\n"
   ]
  },
  {
   "cell_type": "markdown",
   "metadata": {},
   "source": [
    "# Блок №3"
   ]
  },
  {
   "cell_type": "markdown",
   "metadata": {},
   "source": [
    "Матч двух команд состоит из раундов и проходит в формате bo3 (до 2 побед в раундах).\\\n",
    "В каждом раунде возможна победа одной из команд, сила каждой команды в каждом раунде одинакова, раунды равнозначны между собой.\n",
    "\n",
    "1. Напишите функцию, которая, получая на вход вероятность победы первой команды в матче, вернет вероятность победы первой команды в раунде. "
   ]
  },
  {
   "cell_type": "code",
   "execution_count": 33,
   "metadata": {},
   "outputs": [
    {
     "data": {
      "text/plain": [
       "0.5670689228522681"
      ]
     },
     "execution_count": 33,
     "metadata": {},
     "output_type": "execute_result"
    }
   ],
   "source": [
    "import math\n",
    "import numpy as np\n",
    "import matplotlib.pyplot as plt\n",
    "import seaborn as sns\n",
    "# полная вероятность победы составляется из событий 2/3 побед и 3/3 побед, в итоге получаем уравнение: -2*P^3 + 3*P^2 - P_win_series = 0\n",
    "# согласно тригонометрической формулы Виета для решения кубических уравнений находим корень, удовлетворяющий ограничениям 0<P<1\n",
    "def Ch(x):\n",
    "  return (math.exp(x)+math.exp(-x))/2\n",
    "\n",
    "def Sgn(x):\n",
    "  if x>=0: \n",
    "    return 1\n",
    "  else: \n",
    "    return -1\n",
    "\n",
    "def Arch(x):\n",
    "  return math.log(x+pow(x**2-1,0.5)) \n",
    "\n",
    "def P_win_round (P_win_series):\n",
    "  if P_win_series==1:\n",
    "    return 1\n",
    "  elif P_win_series==0:\n",
    "    return 0\n",
    "  elif P_win_series>1:\n",
    "    return \"Ошибка! Вероятность победы в серии не может быть больше 1 !!!\"\n",
    "  else:\n",
    "    Q=(1.5**2)/9\n",
    "    R=(2*(-1.5)**3 + 27*P_win_series/2)/54\n",
    "    S=Q**3 - R**2\n",
    "    if S>0:\n",
    "      fi=np.arccos(R/pow(Q,1.5))/3\n",
    "      x1= - 2*pow(Q,1/2)*math.cos(fi) +1.5/3\n",
    "      x2= - 2*pow(Q,1/2)*math.cos(fi+2*math.pi/3) +1.5/3\n",
    "      x3= - 2*pow(Q,1/2)*math.cos(fi-2*math.pi/3) +1.5/3\n",
    "      return [x for x in (x1,x2,x3) if x>0 and x<1][-1]\n",
    "    elif S==0:\n",
    "      x1= -2*pow(R,1/3) +1.5/3\n",
    "      x2=x3=pow(R,1/3) +1.5/3\n",
    "      return [x for x in (x1,x2,x3) if x>0 and x<1][-1]\n",
    "    else:\n",
    "      fi=Arch( np.abs(R)/np.abs(pow(Q,3/2)))/3\n",
    "      return -2*Sgn(R)*pow(np.abs(Q),0.5)*Ch(fi) + 1.5/3\n",
    "    \n",
    "\n",
    "P_win_round(0.6)\n",
    "\n",
    "\n",
    "\n",
    "#result[12]\n"
   ]
  },
  {
   "cell_type": "code",
   "execution_count": 34,
   "metadata": {},
   "outputs": [
    {
     "name": "stderr",
     "output_type": "stream",
     "text": [
      "C:\\Users\\Espad\\AppData\\Roaming\\Python\\Python39\\site-packages\\seaborn\\_decorators.py:36: FutureWarning: Pass the following variables as keyword args: x, y. From version 0.12, the only valid positional argument will be `data`, and passing other arguments without an explicit keyword will result in an error or misinterpretation.\n",
      "  warnings.warn(\n"
     ]
    },
    {
     "data": {
      "text/plain": [
       "Text(0.5, 0, 'Вероятность победы в матче')"
      ]
     },
     "execution_count": 34,
     "metadata": {},
     "output_type": "execute_result"
    },
    {
     "data": {
      "image/png": "[encoded data removed]",
      "text/plain": [
       "<Figure size 842.4x595.44 with 1 Axes>"
      ]
     },
     "metadata": {},
     "output_type": "display_data"
    }
   ],
   "source": [
    "#Визуализируем зависимость вероятностей победы в раунде от вероятности победы в матче\n",
    "x = []\n",
    "y = [] \n",
    "for i in range(100):\n",
    "  x.append(P_win_round(i/100))\n",
    "  y.append(i/100)\n",
    "\n",
    "sns.set(rc={'figure.figsize':(11.7,8.27)})\n",
    "ax = sns.lineplot(x,y)\n",
    "ax.set_title(\"Зависимость вероятности победы в раунде от вероятности победы в серии\")\n",
    "ax.set_ylabel(\"Вероятность победы в серии\")\n",
    "ax.set_xlabel(\"Вероятность победы в матче\")\n"
   ]
  },
  {
   "cell_type": "markdown",
   "metadata": {},
   "source": [
    "2. Какой коэффициент должен предложить букмекер на победу первой команды в раунде, если вероятность победы первой команды в матче 60%?"
   ]
  },
  {
   "cell_type": "code",
   "execution_count": 35,
   "metadata": {},
   "outputs": [
    {
     "data": {
      "text/plain": [
       "1.763454070045236"
      ]
     },
     "execution_count": 35,
     "metadata": {},
     "output_type": "execute_result"
    }
   ],
   "source": [
    "# коэффициент считается как отношение 100% к проценту вероятности победы \n",
    "def Koeff_to_win(P_win_series):\n",
    "  return 1/P_win_round(P_win_series)\n",
    "\n",
    "Koeff_to_win(0.6)"
   ]
  },
  {
   "cell_type": "markdown",
   "metadata": {},
   "source": [
    "3. Решите обратную задачу. Напишите функцию, которая, получая на вход вероятность победы первой команды в раунде, вернет вероятность победы первой команды в матче."
   ]
  },
  {
   "cell_type": "code",
   "execution_count": 36,
   "metadata": {},
   "outputs": [
    {
     "data": {
      "text/plain": [
       "0.599898474"
      ]
     },
     "execution_count": 36,
     "metadata": {},
     "output_type": "execute_result"
    }
   ],
   "source": [
    "# обратная функция для P_win_round для вычисления полной вероятности победы - можно проверять ими друг друга...\n",
    "def P_win_series(P_win_round):\n",
    "  return 3*(1-P_win_round)*P_win_round**2 + P_win_round**3\n",
    "\n",
    "P_win_series(0.567)"
   ]
  },
  {
   "cell_type": "code",
   "execution_count": null,
   "metadata": {},
   "outputs": [],
   "source": []
  }
 ],
 "metadata": {
  "interpreter": {
   "hash": "11938c6bc6919ae2720b4d5011047913343b08a43b18698fd82dedb0d4417594"
  },
  "kernelspec": {
   "display_name": "Python 3.9.5 64-bit",
   "language": "python",
   "name": "python3"
  },
  "language_info": {
   "codemirror_mode": {
    "name": "ipython",
    "version": 3
   },
   "file_extension": ".py",
   "mimetype": "text/x-python",
   "name": "python",
   "nbconvert_exporter": "python",
   "pygments_lexer": "ipython3",
   "version": "3.9.5"
  }
 },
 "nbformat": 4,
 "nbformat_minor": 4
}
